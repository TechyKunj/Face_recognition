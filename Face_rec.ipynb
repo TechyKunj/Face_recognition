{
 "cells": [
  {
   "cell_type": "code",
   "execution_count": 1,
   "metadata": {},
   "outputs": [],
   "source": [
    "#dlib for face recgonition\n",
    "#cv for capture the camera output"
   ]
  },
  {
   "cell_type": "code",
   "execution_count": 2,
   "metadata": {},
   "outputs": [],
   "source": [
    "import dlib\n",
    "import numpy as np\n",
    "import cv2"
   ]
  },
  {
   "cell_type": "code",
   "execution_count": null,
   "metadata": {},
   "outputs": [],
   "source": [
    "#Capture the frames from my primary camera\n",
    "cap = cv2.VideoCapture(0) #0 for primary camera\n",
    "\n",
    "#Face detector model\n",
    "face_detector = dlib.get_frontal_face_detector()\n",
    "\n",
    "#Capture the frames Contniuosly\n",
    "while True:\n",
    "\n",
    "    ret, frame = cap.read()\n",
    "    frame = cv2.flip(frame,1)#for flip the image and 1 for vertical flip image\n",
    "\n",
    "    #RGB->Grayscale\n",
    "    gray = cv2.cvtColor(frame, cv2.COLOR_BGR2GRAY)\n",
    "    faces = face_detector(gray)\n",
    "\n",
    "    #Iterate through all the faces and draw rectangle around each face and also number it\n",
    "    i=0\n",
    "    for face in faces:\n",
    "        #find the co-ordinate of the face\n",
    "        x, y = face.left(), face.top()\n",
    "        x1, y1 = face.right(), face.bottom()\n",
    "\n",
    "        #Draw the rectangle\n",
    "        cv2.rectangle(frame,(x,y),(x1,y1),(0,255,0),2)\n",
    "\n",
    "        i = i+1\n",
    "\n",
    "        cv2.putText(frame,\"Face num\"+str(i),(x-10 ,y-10),cv2.FONT_HERSHEY_SIMPLEX,0.7,(0,0,255),2)\n",
    "\n",
    "    cv2.imshow('frame',frame)\n",
    "\n",
    "    #code to  come out the infinte loop/interrupt the execution\\\n",
    "    if(cv2.waitKey(1) & 0xFF==ord('q')):\n",
    "        break\n",
    "\n",
    "\n",
    "cap.release()\n",
    "cv2.destroyAllWindows()\n",
    "\n",
    "\n",
    "\n"
   ]
  },
  {
   "cell_type": "code",
   "execution_count": null,
   "metadata": {},
   "outputs": [],
   "source": []
  }
 ],
 "metadata": {
  "kernelspec": {
   "display_name": "Python 3",
   "language": "python",
   "name": "python3"
  },
  "language_info": {
   "codemirror_mode": {
    "name": "ipython",
    "version": 3
   },
   "file_extension": ".py",
   "mimetype": "text/x-python",
   "name": "python",
   "nbconvert_exporter": "python",
   "pygments_lexer": "ipython3",
   "version": "3.11.5"
  }
 },
 "nbformat": 4,
 "nbformat_minor": 2
}
